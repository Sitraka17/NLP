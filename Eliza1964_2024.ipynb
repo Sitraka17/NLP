{
  "nbformat": 4,
  "nbformat_minor": 0,
  "metadata": {
    "colab": {
      "provenance": [],
      "authorship_tag": "ABX9TyMNG7inXZFmhm9atk1/jFrV",
      "include_colab_link": true
    },
    "kernelspec": {
      "name": "python3",
      "display_name": "Python 3"
    },
    "language_info": {
      "name": "python"
    }
  },
  "cells": [
    {
      "cell_type": "markdown",
      "metadata": {
        "id": "view-in-github",
        "colab_type": "text"
      },
      "source": [
        "<a href=\"https://colab.research.google.com/github/Sitraka17/NLP/blob/main/Eliza1964_2024.ipynb\" target=\"_parent\"><img src=\"https://colab.research.google.com/assets/colab-badge.svg\" alt=\"Open In Colab\"/></a>"
      ]
    },
    {
      "cell_type": "code",
      "execution_count": 1,
      "metadata": {
        "colab": {
          "base_uri": "https://localhost:8080/",
          "height": 408
        },
        "id": "O7_f3iNLyLg2",
        "outputId": "037ac19b-57cb-4561-cdb4-bfb1526df6d2"
      },
      "outputs": [
        {
          "output_type": "stream",
          "name": "stdout",
          "text": [
            "ELIZA: Hello. How can I help you today?\n",
            "You: lol\n",
            "ELIZA: Please tell me more.\n",
            "You: ntm\n",
            "ELIZA: I see. Can you say more?\n"
          ]
        },
        {
          "output_type": "error",
          "ename": "KeyboardInterrupt",
          "evalue": "Interrupted by user",
          "traceback": [
            "\u001b[0;31m---------------------------------------------------------------------------\u001b[0m",
            "\u001b[0;31mKeyboardInterrupt\u001b[0m                         Traceback (most recent call last)",
            "\u001b[0;32m<ipython-input-1-d92972b6d8e6>\u001b[0m in \u001b[0;36m<cell line: 0>\u001b[0;34m()\u001b[0m\n\u001b[1;32m    102\u001b[0m \u001b[0;31m# Run the chatbot\u001b[0m\u001b[0;34m\u001b[0m\u001b[0;34m\u001b[0m\u001b[0m\n\u001b[1;32m    103\u001b[0m \u001b[0;32mif\u001b[0m \u001b[0m__name__\u001b[0m \u001b[0;34m==\u001b[0m \u001b[0;34m\"__main__\"\u001b[0m\u001b[0;34m:\u001b[0m\u001b[0;34m\u001b[0m\u001b[0;34m\u001b[0m\u001b[0m\n\u001b[0;32m--> 104\u001b[0;31m     \u001b[0meliza_chat\u001b[0m\u001b[0;34m(\u001b[0m\u001b[0;34m)\u001b[0m\u001b[0;34m\u001b[0m\u001b[0;34m\u001b[0m\u001b[0m\n\u001b[0m",
            "\u001b[0;32m<ipython-input-1-d92972b6d8e6>\u001b[0m in \u001b[0;36meliza_chat\u001b[0;34m()\u001b[0m\n\u001b[1;32m     93\u001b[0m     \u001b[0mprint\u001b[0m\u001b[0;34m(\u001b[0m\u001b[0;34m\"ELIZA: Hello. How can I help you today?\"\u001b[0m\u001b[0;34m)\u001b[0m\u001b[0;34m\u001b[0m\u001b[0;34m\u001b[0m\u001b[0m\n\u001b[1;32m     94\u001b[0m     \u001b[0;32mwhile\u001b[0m \u001b[0;32mTrue\u001b[0m\u001b[0;34m:\u001b[0m\u001b[0;34m\u001b[0m\u001b[0;34m\u001b[0m\u001b[0m\n\u001b[0;32m---> 95\u001b[0;31m         \u001b[0mstatement\u001b[0m \u001b[0;34m=\u001b[0m \u001b[0minput\u001b[0m\u001b[0;34m(\u001b[0m\u001b[0;34m\"You: \"\u001b[0m\u001b[0;34m)\u001b[0m\u001b[0;34m\u001b[0m\u001b[0;34m\u001b[0m\u001b[0m\n\u001b[0m\u001b[1;32m     96\u001b[0m         \u001b[0;32mif\u001b[0m \u001b[0mstatement\u001b[0m\u001b[0;34m.\u001b[0m\u001b[0mlower\u001b[0m\u001b[0;34m(\u001b[0m\u001b[0;34m)\u001b[0m \u001b[0;32min\u001b[0m \u001b[0;34m[\u001b[0m\u001b[0;34m\"quit\"\u001b[0m\u001b[0;34m,\u001b[0m \u001b[0;34m\"exit\"\u001b[0m\u001b[0;34m,\u001b[0m \u001b[0;34m\"bye\"\u001b[0m\u001b[0;34m]\u001b[0m\u001b[0;34m:\u001b[0m\u001b[0;34m\u001b[0m\u001b[0;34m\u001b[0m\u001b[0m\n\u001b[1;32m     97\u001b[0m             \u001b[0mprint\u001b[0m\u001b[0;34m(\u001b[0m\u001b[0;34m\"ELIZA: Goodbye! Take care.\"\u001b[0m\u001b[0;34m)\u001b[0m\u001b[0;34m\u001b[0m\u001b[0;34m\u001b[0m\u001b[0m\n",
            "\u001b[0;32m/usr/local/lib/python3.11/dist-packages/ipykernel/kernelbase.py\u001b[0m in \u001b[0;36mraw_input\u001b[0;34m(self, prompt)\u001b[0m\n\u001b[1;32m    849\u001b[0m                 \u001b[0;34m\"raw_input was called, but this frontend does not support input requests.\"\u001b[0m\u001b[0;34m\u001b[0m\u001b[0;34m\u001b[0m\u001b[0m\n\u001b[1;32m    850\u001b[0m             )\n\u001b[0;32m--> 851\u001b[0;31m         return self._input_request(str(prompt),\n\u001b[0m\u001b[1;32m    852\u001b[0m             \u001b[0mself\u001b[0m\u001b[0;34m.\u001b[0m\u001b[0m_parent_ident\u001b[0m\u001b[0;34m,\u001b[0m\u001b[0;34m\u001b[0m\u001b[0;34m\u001b[0m\u001b[0m\n\u001b[1;32m    853\u001b[0m             \u001b[0mself\u001b[0m\u001b[0;34m.\u001b[0m\u001b[0m_parent_header\u001b[0m\u001b[0;34m,\u001b[0m\u001b[0;34m\u001b[0m\u001b[0;34m\u001b[0m\u001b[0m\n",
            "\u001b[0;32m/usr/local/lib/python3.11/dist-packages/ipykernel/kernelbase.py\u001b[0m in \u001b[0;36m_input_request\u001b[0;34m(self, prompt, ident, parent, password)\u001b[0m\n\u001b[1;32m    893\u001b[0m             \u001b[0;32mexcept\u001b[0m \u001b[0mKeyboardInterrupt\u001b[0m\u001b[0;34m:\u001b[0m\u001b[0;34m\u001b[0m\u001b[0;34m\u001b[0m\u001b[0m\n\u001b[1;32m    894\u001b[0m                 \u001b[0;31m# re-raise KeyboardInterrupt, to truncate traceback\u001b[0m\u001b[0;34m\u001b[0m\u001b[0;34m\u001b[0m\u001b[0m\n\u001b[0;32m--> 895\u001b[0;31m                 \u001b[0;32mraise\u001b[0m \u001b[0mKeyboardInterrupt\u001b[0m\u001b[0;34m(\u001b[0m\u001b[0;34m\"Interrupted by user\"\u001b[0m\u001b[0;34m)\u001b[0m \u001b[0;32mfrom\u001b[0m \u001b[0;32mNone\u001b[0m\u001b[0;34m\u001b[0m\u001b[0;34m\u001b[0m\u001b[0m\n\u001b[0m\u001b[1;32m    896\u001b[0m             \u001b[0;32mexcept\u001b[0m \u001b[0mException\u001b[0m \u001b[0;32mas\u001b[0m \u001b[0me\u001b[0m\u001b[0;34m:\u001b[0m\u001b[0;34m\u001b[0m\u001b[0;34m\u001b[0m\u001b[0m\n\u001b[1;32m    897\u001b[0m                 \u001b[0mself\u001b[0m\u001b[0;34m.\u001b[0m\u001b[0mlog\u001b[0m\u001b[0;34m.\u001b[0m\u001b[0mwarning\u001b[0m\u001b[0;34m(\u001b[0m\u001b[0;34m\"Invalid Message:\"\u001b[0m\u001b[0;34m,\u001b[0m \u001b[0mexc_info\u001b[0m\u001b[0;34m=\u001b[0m\u001b[0;32mTrue\u001b[0m\u001b[0;34m)\u001b[0m\u001b[0;34m\u001b[0m\u001b[0;34m\u001b[0m\u001b[0m\n",
            "\u001b[0;31mKeyboardInterrupt\u001b[0m: Interrupted by user"
          ]
        }
      ],
      "source": [
        "import re\n",
        "import random\n",
        "\n",
        "# Predefined patterns and responses\n",
        "reflections = {\n",
        "    \"am\": \"are\",\n",
        "    \"was\": \"were\",\n",
        "    \"i\": \"you\",\n",
        "    \"i'd\": \"you would\",\n",
        "    \"i've\": \"you have\",\n",
        "    \"i'll\": \"you will\",\n",
        "    \"my\": \"your\",\n",
        "    \"are\": \"am\",\n",
        "    \"you've\": \"I have\",\n",
        "    \"you'll\": \"I will\",\n",
        "    \"your\": \"my\",\n",
        "    \"yours\": \"mine\",\n",
        "    \"you\": \"me\",\n",
        "    \"me\": \"you\"\n",
        "}\n",
        "\n",
        "psychobabble = [\n",
        "    [r'I need (.*)',\n",
        "     [\"Why do you need {0}?\",\n",
        "      \"Would it really help you to get {0}?\",\n",
        "      \"Are you sure you need {0}?\"]],\n",
        "\n",
        "    [r'Why don\\'t you (.*)',\n",
        "     [\"Do you really think I don't {0}?\",\n",
        "      \"Perhaps eventually I will {0}.\",\n",
        "      \"Do you want me to {0}?\"]],\n",
        "\n",
        "    [r'Why can\\'t I (.*)',\n",
        "     [\"Do you think you should be able to {0}?\",\n",
        "      \"If you could {0}, what would you do?\",\n",
        "      \"I don't know — why can't you {0}?\",\n",
        "      \"Have you really tried?\"]],\n",
        "\n",
        "    [r'I can\\'t (.*)',\n",
        "     [\"How do you know you can't {0}?\",\n",
        "      \"Perhaps you could {0} if you tried.\",\n",
        "      \"What would it take for you to {0}?\"]],\n",
        "\n",
        "    [r'I am (.*)',\n",
        "     [\"How long have you been {0}?\",\n",
        "      \"Do you enjoy being {0}?\",\n",
        "      \"Why do you tell me you're {0}?\",\n",
        "      \"Why do you think you're {0}?\"]],\n",
        "\n",
        "    [r'Hello(.*)',\n",
        "     [\"Hello... I'm glad you could drop by today.\",\n",
        "      \"Hi there... how are you today?\",\n",
        "      \"Hello, how are you feeling today?\"]],\n",
        "\n",
        "    [r'(.*) sorry (.*)',\n",
        "     [\"There are many times when no apology is needed.\",\n",
        "      \"What feelings do you have when you apologize?\"]],\n",
        "\n",
        "    [r'Quit',\n",
        "     [\"Thank you for talking with me.\",\n",
        "      \"Good-bye.\",\n",
        "      \"Thank you, have a good day!\"]],\n",
        "\n",
        "    [r'(.*)',\n",
        "     [\"Please tell me more.\",\n",
        "      \"Let's change focus a bit... Tell me about your family.\",\n",
        "      \"Can you elaborate on that?\",\n",
        "      \"Why do you say that {0}?\",\n",
        "      \"I see. Can you say more?\",\n",
        "      \"Interesting. Can you explain further?\",\n",
        "      \"Do you feel strongly about discussing this?\"]]\n",
        "]\n",
        "\n",
        "def reflect(fragment):\n",
        "    \"\"\"Reflects pronouns for the conversation.\"\"\"\n",
        "    words = fragment.lower().split()\n",
        "    for i, word in enumerate(words):\n",
        "        if word in reflections:\n",
        "            words[i] = reflections[word]\n",
        "    return ' '.join(words)\n",
        "\n",
        "def analyze(statement):\n",
        "    \"\"\"Matches user's statement with a pattern and returns a response.\"\"\"\n",
        "    for pattern, responses in psychobabble:\n",
        "        match = re.match(pattern, statement.rstrip(\".!?\"), re.IGNORECASE)\n",
        "        if match:\n",
        "            response = random.choice(responses)\n",
        "            return response.format(*[reflect(g) for g in match.groups()])\n",
        "    return \"I'm not sure I understand you fully.\"\n",
        "\n",
        "def eliza_chat():\n",
        "    \"\"\"Runs the ELIZA chatbot.\"\"\"\n",
        "    print(\"ELIZA: Hello. How can I help you today?\")\n",
        "    while True:\n",
        "        statement = input(\"You: \")\n",
        "        if statement.lower() in [\"quit\", \"exit\", \"bye\"]:\n",
        "            print(\"ELIZA: Goodbye! Take care.\")\n",
        "            break\n",
        "        response = analyze(statement)\n",
        "        print(f\"ELIZA: {response}\")\n",
        "\n",
        "# Run the chatbot\n",
        "if __name__ == \"__main__\":\n",
        "    eliza_chat()\n"
      ]
    }
  ]
}