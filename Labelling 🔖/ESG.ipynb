{
 "cells": [
  {
   "cell_type": "code",
   "execution_count": null,
   "metadata": {},
   "outputs": [],
   "source": [
    "import pandas as pd\n",
    "import numpy as np\n",
    "import matplotlib.pyplot as plt\n",
    "from pandas_datareader import data as pdr\n",
    "import yfinance as yf\n",
    "\n",
    "yf.pdr_override()\n",
    "\n",
    "# Download historical data for a security\n",
    "symbol = \"AAPL\"\n",
    "start_date = \"2019-01-01\"\n",
    "end_date = \"2022-03-16\"\n",
    "df = pdr.get_data_yahoo(symbol, start_date, end_date)\n",
    "\n",
    "# Calculate the MACD and signal curve\n",
    "ema_12 = df[\"Adj Close\"].ewm(span=12, adjust=False).mean()\n",
    "ema_26 = df[\"Adj Close\"].ewm(span=26, adjust=False).mean()\n",
    "macd = ema_12 - ema_26\n",
    "signal = macd.ewm(span=9, adjust=False).mean()\n",
    "\n",
    "# Plot the MACD and signal curve\n",
    "fig, ax = plt.subplots(figsize=(15, 10))\n",
    "ax.plot(df.index, macd, label=\"MACD\")\n",
    "ax.plot(df.index, signal, label=\"Signal\")\n",
    "ax.legend(loc=\"upper left\")\n",
    "\n",
    "# Determine entry and exit points based on the MACD and signal curve\n",
    "df[\"Position\"] = np.where(macd > signal, 1, 0)\n",
    "df[\"Position\"] = np.where(macd < signal, -1, df[\"Position\"])\n",
    "df[\"Trade\"] = df[\"Position\"].diff()\n",
    "df[\"Buy\"] = np.where(df[\"Trade\"] == 1, df[\"Adj Close\"], np.nan)\n",
    "df[\"Sell\"] = np.where(df[\"Trade\"] == -1, df[\"Adj Close\"], np.nan)\n",
    "\n",
    "# Plot the entry and exit points\n",
    "ax.plot(df.index, df[\"Buy\"], marker=\"^\", markersize=10, color=\"g\", linestyle=\"None\")\n",
    "ax.plot(df.index, df[\"Sell\"], marker=\"v\", markersize=10, color=\"r\", linestyle=\"None\")\n",
    "plt.show()\n"
   ]
  }
 ],
 "metadata": {
  "language_info": {
   "name": "python"
  },
  "orig_nbformat": 4
 },
 "nbformat": 4,
 "nbformat_minor": 2
}
